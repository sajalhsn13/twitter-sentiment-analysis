{
 "cells": [
  {
   "cell_type": "code",
   "execution_count": 20,
   "metadata": {
    "id": "DSe7fp0erg5L"
   },
   "outputs": [],
   "source": [
    "import pandas as pd\n",
    "import numpy as np\n",
    "from tensorflow.keras.preprocessing.text import Tokenizer\n",
    "from tensorflow.keras.utils import pad_sequences, to_categorical\n",
    "from tensorflow.keras import layers, models\n",
    "from tensorflow.keras.callbacks import EarlyStopping\n",
    "from sklearn.model_selection import train_test_split\n",
    "\n",
    "SEED = 57\n",
    "dim_lstm = 256\n",
    "dim_embed = 256\n",
    "traning_batch = 256"
   ]
  },
  {
   "cell_type": "code",
   "execution_count": 2,
   "metadata": {
    "colab": {
     "base_uri": "https://localhost:8080/"
    },
    "id": "7Jp-U0dUr30b",
    "outputId": "b047c3d4-eedf-4ad9-8c34-b99302664bf0"
   },
   "outputs": [
    {
     "name": "stdout",
     "output_type": "stream",
     "text": [
      "<class 'pandas.core.frame.DataFrame'>\n",
      "RangeIndex: 130375 entries, 0 to 130374\n",
      "Data columns (total 2 columns):\n",
      " #   Column      Non-Null Count   Dtype  \n",
      "---  ------      --------------   -----  \n",
      " 0   clean_text  130375 non-null  object \n",
      " 1   category    130375 non-null  float64\n",
      "dtypes: float64(1), object(1)\n",
      "memory usage: 2.0+ MB\n",
      "<class 'pandas.core.frame.DataFrame'>\n",
      "RangeIndex: 32594 entries, 0 to 32593\n",
      "Data columns (total 2 columns):\n",
      " #   Column      Non-Null Count  Dtype  \n",
      "---  ------      --------------  -----  \n",
      " 0   clean_text  32594 non-null  object \n",
      " 1   category    32594 non-null  float64\n",
      "dtypes: float64(1), object(1)\n",
      "memory usage: 509.4+ KB\n"
     ]
    },
    {
     "data": {
      "text/plain": [
       "(None, None)"
      ]
     },
     "execution_count": 2,
     "metadata": {},
     "output_type": "execute_result"
    }
   ],
   "source": [
    "df_tr = pd.read_csv(\"train.csv\")\n",
    "df_vl = pd.read_csv(\"valid.csv\")\n",
    "df_tr.info(), df_vl.info()"
   ]
  },
  {
   "cell_type": "code",
   "execution_count": 3,
   "metadata": {
    "id": "C_6zKBw0r_m2"
   },
   "outputs": [],
   "source": [
    "tokenizer = Tokenizer(oov_token=\"<UNK>\")\n",
    "tokenizer.fit_on_texts(df_tr.clean_text.values)"
   ]
  },
  {
   "cell_type": "code",
   "execution_count": 4,
   "metadata": {
    "colab": {
     "base_uri": "https://localhost:8080/"
    },
    "id": "3_JcJLWisC9i",
    "outputId": "359c2f78-2cdf-4d8d-b019-11cf89a530b2"
   },
   "outputs": [
    {
     "data": {
      "text/plain": [
       "98419"
      ]
     },
     "execution_count": 4,
     "metadata": {},
     "output_type": "execute_result"
    }
   ],
   "source": [
    "vocab_size = len(tokenizer.word_index) + 1\n",
    "vocab_size"
   ]
  },
  {
   "cell_type": "code",
   "execution_count": 5,
   "metadata": {
    "id": "gE2u8GqgsHaG"
   },
   "outputs": [],
   "source": [
    "x_tr = tokenizer.texts_to_sequences(df_tr.clean_text.values)\n",
    "x_vl = tokenizer.texts_to_sequences(df_vl.clean_text.values)"
   ]
  },
  {
   "cell_type": "code",
   "execution_count": 6,
   "metadata": {
    "colab": {
     "base_uri": "https://localhost:8080/"
    },
    "id": "W-_GCnrDsNdF",
    "outputId": "816be39d-c3c9-4fa7-9549-59ecdcdac536"
   },
   "outputs": [
    {
     "data": {
      "text/plain": [
       "52"
      ]
     },
     "execution_count": 6,
     "metadata": {},
     "output_type": "execute_result"
    }
   ],
   "source": [
    "max_len = max([len(e) for e in x_tr])\n",
    "max_len"
   ]
  },
  {
   "cell_type": "code",
   "execution_count": 7,
   "metadata": {
    "colab": {
     "base_uri": "https://localhost:8080/"
    },
    "id": "deISeJXfsR6O",
    "outputId": "27533551-ac6d-4480-bfc1-70ac4cbbb89f"
   },
   "outputs": [
    {
     "data": {
      "text/plain": [
       "((130375, 52), (32594, 52))"
      ]
     },
     "execution_count": 7,
     "metadata": {},
     "output_type": "execute_result"
    }
   ],
   "source": [
    "x_tr = pad_sequences(x_tr, maxlen=max_len, padding=\"post\", truncating=\"post\")\n",
    "x_vl = pad_sequences(x_vl, maxlen=max_len, padding=\"post\", truncating=\"post\")\n",
    "x_tr.shape, x_vl.shape"
   ]
  },
  {
   "cell_type": "code",
   "execution_count": 8,
   "metadata": {
    "colab": {
     "base_uri": "https://localhost:8080/"
    },
    "id": "qhAPxm7lsV_Y",
    "outputId": "50a8295c-7657-4828-cad8-b161f56997a9"
   },
   "outputs": [
    {
     "data": {
      "text/plain": [
       "array([  99, 2342,    3,   46, 2293,  255,   84,    3, 2743,    3,   59,\n",
       "        106,   32,   84,  153,  703,  564,    0,    0,    0,    0,    0,\n",
       "          0,    0,    0,    0,    0,    0,    0,    0,    0,    0,    0,\n",
       "          0,    0,    0,    0,    0,    0,    0,    0,    0,    0,    0,\n",
       "          0,    0,    0,    0,    0,    0,    0,    0], dtype=int32)"
      ]
     },
     "execution_count": 8,
     "metadata": {},
     "output_type": "execute_result"
    }
   ],
   "source": [
    "x_tr[1]"
   ]
  },
  {
   "cell_type": "code",
   "execution_count": 9,
   "metadata": {
    "colab": {
     "base_uri": "https://localhost:8080/"
    },
    "id": "UJtnS-zCshjJ",
    "outputId": "3399f2e2-3096-4a6d-98e3-31403587cbd7"
   },
   "outputs": [
    {
     "data": {
      "text/plain": [
       "((130375, 3), (32594, 3))"
      ]
     },
     "execution_count": 9,
     "metadata": {},
     "output_type": "execute_result"
    }
   ],
   "source": [
    "y_tr = df_tr.category.apply(lambda x: int(x) + 1).values\n",
    "y_vl = df_vl.category.apply(lambda x: int(x) + 1).values\n",
    "y_tr = to_categorical(y_tr, num_classes=3)\n",
    "y_vl = to_categorical(y_vl, num_classes=3)\n",
    "y_tr.shape, y_vl.shape"
   ]
  },
  {
   "cell_type": "code",
   "execution_count": 10,
   "metadata": {
    "id": "4i4wwXC5sjgt"
   },
   "outputs": [],
   "source": [
    "model = models.Sequential([\n",
    "    layers.Input(shape=(max_len,)),\n",
    "    layers.Embedding(input_dim=vocab_size, output_dim=dim_embed),\n",
    "    layers.LSTM(units=dim_lstm),\n",
    "    layers.Dense(3, activation='softmax')\n",
    "])"
   ]
  },
  {
   "cell_type": "code",
   "execution_count": 11,
   "metadata": {
    "colab": {
     "base_uri": "https://localhost:8080/"
    },
    "id": "LUU0O2i5snvf",
    "outputId": "149bd326-73a5-4a06-d101-6742047336c1"
   },
   "outputs": [
    {
     "name": "stdout",
     "output_type": "stream",
     "text": [
      "Model: \"sequential\"\n",
      "_________________________________________________________________\n",
      " Layer (type)                Output Shape              Param #   \n",
      "=================================================================\n",
      " embedding (Embedding)       (None, 52, 256)           25195264  \n",
      "                                                                 \n",
      " lstm (LSTM)                 (None, 256)               525312    \n",
      "                                                                 \n",
      " dense (Dense)               (None, 3)                 771       \n",
      "                                                                 \n",
      "=================================================================\n",
      "Total params: 25,721,347\n",
      "Trainable params: 25,721,347\n",
      "Non-trainable params: 0\n",
      "_________________________________________________________________\n"
     ]
    }
   ],
   "source": [
    "model.summary()"
   ]
  },
  {
   "cell_type": "code",
   "execution_count": 12,
   "metadata": {
    "id": "41getvxGspjt"
   },
   "outputs": [],
   "source": [
    "model.compile(loss='categorical_crossentropy', optimizer='adam', metrics=['accuracy'])"
   ]
  },
  {
   "cell_type": "code",
   "execution_count": 13,
   "metadata": {
    "colab": {
     "base_uri": "https://localhost:8080/"
    },
    "id": "ATtYr65fssSY",
    "outputId": "fba80f22-2f51-4022-81f0-383d1232a1f0"
   },
   "outputs": [
    {
     "name": "stdout",
     "output_type": "stream",
     "text": [
      "Epoch 1/5\n",
      "510/510 [==============================] - 19s 32ms/step - loss: 0.4411 - accuracy: 0.8227 - val_loss: 0.1893 - val_accuracy: 0.9395\n",
      "Epoch 2/5\n",
      "510/510 [==============================] - 15s 30ms/step - loss: 0.1303 - accuracy: 0.9593 - val_loss: 0.1302 - val_accuracy: 0.9595\n",
      "Epoch 3/5\n",
      "510/510 [==============================] - 15s 30ms/step - loss: 0.0705 - accuracy: 0.9788 - val_loss: 0.1237 - val_accuracy: 0.9640\n",
      "Epoch 4/5\n",
      "510/510 [==============================] - 15s 30ms/step - loss: 0.0451 - accuracy: 0.9867 - val_loss: 0.1200 - val_accuracy: 0.9653\n",
      "Epoch 5/5\n",
      "510/510 [==============================] - 15s 30ms/step - loss: 0.0333 - accuracy: 0.9903 - val_loss: 0.1208 - val_accuracy: 0.9672\n"
     ]
    },
    {
     "data": {
      "text/plain": [
       "<keras.callbacks.History at 0x7f23a246ad90>"
      ]
     },
     "execution_count": 13,
     "metadata": {},
     "output_type": "execute_result"
    }
   ],
   "source": [
    "model.fit(x_tr, y_tr, validation_data=(x_vl, y_vl), epochs=5, batch_size=traning_batch, callbacks=[EarlyStopping(patience=3)])"
   ]
  },
  {
   "cell_type": "code",
   "execution_count": 30,
   "metadata": {
    "id": "taQl0ne7vyYA"
   },
   "outputs": [],
   "source": [
    "id2sentiment = {\n",
    "    0: \"negative\",\n",
    "    1: \"neutral\",\n",
    "    2: \"positive\" \n",
    "}\n",
    "\n",
    "def predict_sentiment(text):\n",
    "  x = tokenizer.texts_to_sequences([text])\n",
    "  x = pad_sequences(x, maxlen=max_len, padding=\"post\", truncating=\"post\")\n",
    "  prob = model.predict(x)[0]\n",
    "  id = np.argmax(prob)\n",
    "  sentiment = id2sentiment[id]\n",
    "  return sentiment"
   ]
  },
  {
   "cell_type": "code",
   "execution_count": 31,
   "metadata": {
    "colab": {
     "base_uri": "https://localhost:8080/",
     "height": 53
    },
    "id": "dLrwwkpYzF9l",
    "outputId": "ed7a2d52-2786-4cca-abf8-97ce8271ac40"
   },
   "outputs": [
    {
     "name": "stdout",
     "output_type": "stream",
     "text": [
      "1/1 [==============================] - 0s 23ms/step\n"
     ]
    },
    {
     "data": {
      "application/vnd.google.colaboratory.intrinsic+json": {
       "type": "string"
      },
      "text/plain": [
       "'positive'"
      ]
     },
     "execution_count": 31,
     "metadata": {},
     "output_type": "execute_result"
    }
   ],
   "source": [
    "predict_sentiment(\"why are you complaining modi busy helping and start new businesses has time and money left actually has little money left but needs for adverts about himself\")"
   ]
  },
  {
   "cell_type": "code",
   "execution_count": 32,
   "metadata": {
    "colab": {
     "base_uri": "https://localhost:8080/",
     "height": 53
    },
    "id": "qTy-rxJFzJUy",
    "outputId": "4e13b1e4-fe20-4d19-f25f-e9aef84644f9"
   },
   "outputs": [
    {
     "name": "stdout",
     "output_type": "stream",
     "text": [
      "1/1 [==============================] - 0s 20ms/step\n"
     ]
    },
    {
     "data": {
      "application/vnd.google.colaboratory.intrinsic+json": {
       "type": "string"
      },
      "text/plain": [
       "'neutral'"
      ]
     },
     "execution_count": 32,
     "metadata": {},
     "output_type": "execute_result"
    }
   ],
   "source": [
    "\tpredict_sentiment(\"for baby with constipation use betel leaf stems inserted into anus how about elders who suffer constipation because modi see the same treatment done here publicly  two videos\")"
   ]
  },
  {
   "cell_type": "code",
   "execution_count": null,
   "metadata": {
    "id": "ToVFCmQE0335"
   },
   "outputs": [],
   "source": []
  }
 ],
 "metadata": {
  "accelerator": "GPU",
  "colab": {
   "provenance": []
  },
  "gpuClass": "standard",
  "kernelspec": {
   "display_name": "Python@3.10 tensorflow",
   "language": "python",
   "name": "tf"
  },
  "language_info": {
   "codemirror_mode": {
    "name": "ipython",
    "version": 3
   },
   "file_extension": ".py",
   "mimetype": "text/x-python",
   "name": "python",
   "nbconvert_exporter": "python",
   "pygments_lexer": "ipython3",
   "version": "3.10.5"
  }
 },
 "nbformat": 4,
 "nbformat_minor": 4
}
